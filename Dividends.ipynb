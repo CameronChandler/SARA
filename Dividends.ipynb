{
 "cells": [
  {
   "cell_type": "code",
   "execution_count": 1,
   "id": "32031911",
   "metadata": {},
   "outputs": [],
   "source": [
    "url = 'https://www2.asx.com.au/markets/company/'\n",
    "codes = 'alu eld cl1 sfc cat lfg dow dsk nab bkw'.split()\n",
    "\n",
    "import webbrowser\n",
    "\n",
    "for code in codes:\n",
    "    webbrowser.open(url + code)"
   ]
  },
  {
   "cell_type": "code",
   "execution_count": null,
   "id": "b12833d3",
   "metadata": {},
   "outputs": [],
   "source": []
  }
 ],
 "metadata": {
  "kernelspec": {
   "display_name": "Python 3",
   "language": "python",
   "name": "python3"
  },
  "language_info": {
   "codemirror_mode": {
    "name": "ipython",
    "version": 3
   },
   "file_extension": ".py",
   "mimetype": "text/x-python",
   "name": "python",
   "nbconvert_exporter": "python",
   "pygments_lexer": "ipython3",
   "version": "3.7.11"
  }
 },
 "nbformat": 4,
 "nbformat_minor": 5
}
